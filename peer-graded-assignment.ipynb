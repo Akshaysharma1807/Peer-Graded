{
  "cells": [
    {
      "cell_type": "markdown",
      "metadata": {},
      "source": [
        "Peer-graded-assignment 1"
      ]
    },
    {
      "cell_type": "markdown",
      "metadata": {},
      "source": [
        "Hello, I am Akshay\n",
        "This notebook is an assignment for course tools for data science on Coursera"
      ]
    },
    {
      "cell_type": "markdown",
      "metadata": {},
      "source": [
        "Some of the data science languages are: \n",
        "1. Python\n",
        "2. R\n",
        "3. SQL\n",
        "4. Java\n",
        "5. Scala\n",
        "6. Julia\n",
        "7. MATLAB\n",
        "8. JavaScript\n",
        "9. C++"
      ]
    },
    {
      "cell_type": "markdown",
      "metadata": {},
      "source": [
        "Some of the data science libraries are:\n",
        "1. Pandas\n",
        "2. TensorFlow\n",
        "3. NumPy\n",
        "4. Matplotlib\n",
        "5. Scikit-learn\n",
        "6. SciPy\n",
        "7. PyTorch\n",
        "8. Keras"
      ]
    },
    {
      "cell_type": "markdown",
      "metadata": {},
      "source": [
        "| S no. | Tools |\n",
        "| -------------| ------ |\n",
        "| 1 |TensorFlow |\n",
        "|2|Hadoop|\n",
        "|3|Spark|\n",
        "|4|Weka|\n",
        "|5|Tableau|\n",
        "|6|MatLab|\n",
        "|7|Keras|\n",
        "|8|PyTorch|"
      ]
    },
    {
      "cell_type": "markdown",
      "metadata": {},
      "source": [
        "An arithmetic expression is an expression built up using numbers, arithmetic operators (such as +, , -, /  ) and parentheses, \"(\" and \")\". \n",
        "Example:\n",
        "- 5\n",
        "- 2+3\n",
        "- 4*4"
      ]
    },
    {
      "cell_type": "code",
      "execution_count": 3,
      "metadata": {
        "trusted": true
      },
      "outputs": [
        {
          "name": "stdout",
          "output_type": "stream",
          "text": [
            "15\n",
            "17\n"
          ]
        }
      ],
      "source": [
        "a = 5*3\n",
        "b = 2+a\n",
        "print(a)\n",
        "print(b)"
      ]
    },
    {
      "cell_type": "code",
      "execution_count": 4,
      "metadata": {
        "trusted": true
      },
      "outputs": [
        {
          "name": "stdout",
          "output_type": "stream",
          "text": [
            "1.0 hour\n"
          ]
        }
      ],
      "source": [
        "minute = 60\n",
        "hour = minute/60\n",
        "print(hour,\"hour\")"
      ]
    },
    {
      "cell_type": "markdown",
      "metadata": {},
      "source": [
        "__Objectives__\n",
        "1. To learn about jupyter notebook and it's functioning\n",
        "2. To learn about github\n",
        "3. To learn about data science tools and libraries"
      ]
    },
    {
      "cell_type": "markdown",
      "metadata": {},
      "source": [
        "__Author details__\n",
        "- This notebook is written by Akshay student at CU"
      ]
    },
    {
      "cell_type": "code",
      "execution_count": null,
      "metadata": {},
      "outputs": [],
      "source": []
    }
  ],
  "metadata": {
    "kernelspec": {
      "display_name": "Python (Pyodide)",
      "language": "python",
      "name": "python"
    },
    "language_info": {
      "codemirror_mode": {
        "name": "python",
        "version": 3
      },
      "file_extension": ".py",
      "mimetype": "text/x-python",
      "name": "python",
      "nbconvert_exporter": "python",
      "pygments_lexer": "ipython3",
      "version": "3.8"
    }
  },
  "nbformat": 4,
  "nbformat_minor": 4
}
